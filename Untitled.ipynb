{
 "cells": [
  {
   "cell_type": "code",
   "execution_count": 11,
   "id": "68262da3-4024-4190-a443-46a35b5d63bc",
   "metadata": {},
   "outputs": [],
   "source": [
    "import pandas as pd\n",
    "import datetime"
   ]
  },
  {
   "cell_type": "code",
   "execution_count": 42,
   "id": "70207af2-653b-4e59-9be0-42c0e76062f6",
   "metadata": {},
   "outputs": [],
   "source": [
    "wave_names = [\n",
    "'Wave 2',\n",
    "'Wave 3',\n",
    "'Wave 4',\n",
    "'Wave 5',\n",
    "'Wave 6',\n",
    "'Wave 7',\n",
    "'Wave 8',\n",
    "'Wave 9',\n",
    "'Wave 10',\n",
    "'International Backers Wave 1',\n",
    "'Wave 11',\n",
    "'Wave 12',\n",
    "'Internation Backers Wave 2']\n",
    "\n",
    "tables_per_wave = [\n",
    "40,\n",
    "250,\n",
    "500,\n",
    "500,\n",
    "600,\n",
    "700,\n",
    "798,\n",
    "899,\n",
    "862,\n",
    "871,\n",
    "316,\n",
    "56,\n",
    "36]\n",
    "\n",
    "wave_tables = zip(wave_names, tables_per_wave)"
   ]
  },
  {
   "cell_type": "code",
   "execution_count": 36,
   "id": "bf70f766-73b5-4872-975a-b029479987c8",
   "metadata": {},
   "outputs": [],
   "source": [
    "def production_schedule(weekly_production, weekly_limit, monthly_increase, total_required):\n",
    "    total_produced = 0\n",
    "    weekly_schedule = []\n",
    "    while total_produced < total_required:\n",
    "        total_produced += 4 * weekly_production\n",
    "        weekly_schedule.extend(weekly_production for i in range(4))\n",
    "        if weekly_production < weekly_limit:\n",
    "            weekly_production += 5\n",
    "            \n",
    "    return weekly_schedule  "
   ]
  },
  {
   "cell_type": "code",
   "execution_count": 37,
   "id": "cb5f8150-5271-4693-849f-c80e9d2220e0",
   "metadata": {},
   "outputs": [],
   "source": [
    "def wave_start_date(tables_per_wave, production_schedule):\n",
    "    delivery_date = datetime.datetime.strptime(\n",
    "        datetime.date.today(),\n",
    "        '%m/%d/%y')\n",
    "    delivery_week = []\n",
    "    delivery_wave = []\n",
    "    schedule_index = 0\n",
    "    for wave_name, num_tables in tables_per_wave:\n",
    "        tables_remaining = num_tables\n",
    "        while tables_remaining > 0:\n",
    "            tables_remaining += -production_schedule[schedule_index]\n",
    "            schedule_index += 1\n",
    "            delivery_date += datetime.timedelta(days=7)\n",
    "            delivery_week.append(delivery_date)\n",
    "            delivery_wave.append(wave_name)\n",
    "        continue\n",
    "    return zip(delivery_week, delivery_wave)\n",
    "    "
   ]
  },
  {
   "cell_type": "code",
   "execution_count": 39,
   "id": "57b30811-a710-43e3-a43f-15078d16d1dd",
   "metadata": {},
   "outputs": [
    {
     "name": "stdout",
     "output_type": "stream",
     "text": [
      "[40, 40, 40, 40, 45, 45, 45, 45, 50, 50, 50, 50, 55, 55, 55, 55, 60, 60, 60, 60, 65, 65, 65, 65, 70, 70, 70, 70, 75, 75, 75, 75, 80, 80, 80, 80, 85, 85, 85, 85, 90, 90, 90, 90, 95, 95, 95, 95, 100, 100, 100, 100, 100, 100, 100, 100, 100, 100, 100, 100, 100, 100, 100, 100, 100, 100, 100, 100, 100, 100, 100, 100, 100, 100, 100, 100, 100, 100, 100, 100]\n"
     ]
    }
   ],
   "source": [
    "weekly_production = production_schedule(40,100,5,sum(tables_per_wave))\n",
    "print(weekly_production)"
   ]
  },
  {
   "cell_type": "code",
   "execution_count": 40,
   "id": "144ce78d-acce-4b38-8993-78e29b982d62",
   "metadata": {},
   "outputs": [
    {
     "name": "stdout",
     "output_type": "stream",
     "text": [
      "Total Tables Outstanding: 6428\n",
      "Weeks to complete fulfillment: 80\n"
     ]
    }
   ],
   "source": [
    "print(f'Total Tables Outstanding: {sum(tables_per_wave)}')\n",
    "print(f'Weeks to complete fulfillment: {len(weekly_production)}')"
   ]
  },
  {
   "cell_type": "code",
   "execution_count": 38,
   "id": "5f972b86-04d7-41b9-9df0-0ad8b0dcfa4c",
   "metadata": {},
   "outputs": [
    {
     "ename": "SyntaxError",
     "evalue": "unexpected EOF while parsing (Temp/ipykernel_9104/825391939.py, line 1)",
     "output_type": "error",
     "traceback": [
      "\u001b[1;36m  File \u001b[1;32m\"C:\\Users\\Victor\\AppData\\Local\\Temp/ipykernel_9104/825391939.py\"\u001b[1;36m, line \u001b[1;32m1\u001b[0m\n\u001b[1;33m    print(wave_start_date\u001b[0m\n\u001b[1;37m                         ^\u001b[0m\n\u001b[1;31mSyntaxError\u001b[0m\u001b[1;31m:\u001b[0m unexpected EOF while parsing\n"
     ]
    }
   ],
   "source": [
    "print(wave_start_date"
   ]
  },
  {
   "cell_type": "code",
   "execution_count": null,
   "id": "25ff1d96-aa9b-412e-889b-7b42b46bc84d",
   "metadata": {},
   "outputs": [],
   "source": []
  }
 ],
 "metadata": {
  "kernelspec": {
   "display_name": "Python 3 (ipykernel)",
   "language": "python",
   "name": "python3"
  },
  "language_info": {
   "codemirror_mode": {
    "name": "ipython",
    "version": 3
   },
   "file_extension": ".py",
   "mimetype": "text/x-python",
   "name": "python",
   "nbconvert_exporter": "python",
   "pygments_lexer": "ipython3",
   "version": "3.8.11"
  }
 },
 "nbformat": 4,
 "nbformat_minor": 5
}
