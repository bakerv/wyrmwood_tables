{
 "cells": [
  {
   "cell_type": "code",
   "execution_count": 361,
   "id": "68262da3-4024-4190-a443-46a35b5d63bc",
   "metadata": {},
   "outputs": [],
   "source": [
    "import pandas as pd\n",
    "import datetime\n",
    "import copy"
   ]
  },
  {
   "cell_type": "code",
   "execution_count": 362,
   "id": "70207af2-653b-4e59-9be0-42c0e76062f6",
   "metadata": {},
   "outputs": [],
   "source": [
    "wave_names = [\n",
    "'Wave 2',\n",
    "'Wave 3',\n",
    "'Wave 4',\n",
    "'Wave 5',\n",
    "'Wave 6',\n",
    "'Wave 7',\n",
    "'Wave 8',\n",
    "'Wave 9',\n",
    "'Wave 10',\n",
    "'International Backers Wave 1',\n",
    "'Wave 11',\n",
    "'Wave 12',\n",
    "'Internation Backers Wave 2']\n",
    "\n",
    "tables_per_wave = [\n",
    "40,\n",
    "250,\n",
    "500,\n",
    "500,\n",
    "600,\n",
    "700,\n",
    "798,\n",
    "899,\n",
    "862,\n",
    "871,\n",
    "316,\n",
    "56,\n",
    "36]\n",
    "\n",
    "wave_tables = zip(wave_names, tables_per_wave)"
   ]
  },
  {
   "cell_type": "code",
   "execution_count": 363,
   "id": "bf70f766-73b5-4872-975a-b029479987c8",
   "metadata": {},
   "outputs": [],
   "source": [
    "def production_schedule(weekly_production, weekly_limit, monthly_increase, total_required):\n",
    "    total_produced = 0\n",
    "    weekly_schedule = []\n",
    "    current_production = copy.deepcopy(weekly_production)\n",
    "    while total_produced < total_required:\n",
    "        total_produced += 4 * weekly_production\n",
    "        weekly_schedule.extend(weekly_production for i in range(4))\n",
    "        if weekly_production < weekly_limit:\n",
    "            weekly_production += 5\n",
    "            \n",
    "    return weekly_schedule  "
   ]
  },
  {
   "cell_type": "code",
   "execution_count": 364,
   "id": "cb5f8150-5271-4693-849f-c80e9d2220e0",
   "metadata": {},
   "outputs": [],
   "source": [
    "def wave_start_date(tables_per_wave, production_schedule):\n",
    "    delivery_date = datetime.date.today()\n",
    "    delivery_week = []\n",
    "    delivery_wave = []\n",
    "    schedule_index = 0\n",
    "    units_next_wave = 0\n",
    "    for wave_name, num_tables in tables_per_wave:\n",
    "        tables_remaining = copy.deepcopy(num_tables) + units_next_wave\n",
    "        while tables_remaining > 0:\n",
    "            tables_remaining += -production_schedule[schedule_index]\n",
    "            schedule_index += 1\n",
    "            delivery_date += datetime.timedelta(days=7)\n",
    "            delivery_week.append(delivery_date)\n",
    "            delivery_wave.append(wave_name)\n",
    "        units_next_wave = copy.deepcopy(tables_remaining)\n",
    "       \n",
    "        continue\n",
    "    \n",
    "    return list(zip(delivery_wave, delivery_week))\n",
    "    "
   ]
  },
  {
   "cell_type": "code",
   "execution_count": 365,
   "id": "57b30811-a710-43e3-a43f-15078d16d1dd",
   "metadata": {},
   "outputs": [
    {
     "name": "stdout",
     "output_type": "stream",
     "text": [
      "[40, 40, 40, 40, 45, 45, 45, 45, 50, 50, 50, 50, 55, 55, 55, 55, 60, 60, 60, 60, 65, 65, 65, 65, 70, 70, 70, 70, 75, 75, 75, 75, 80, 80, 80, 80, 85, 85, 85, 85, 90, 90, 90, 90, 95, 95, 95, 95, 100, 100, 100, 100, 100, 100, 100, 100, 100, 100, 100, 100, 100, 100, 100, 100, 100, 100, 100, 100, 100, 100, 100, 100, 100, 100, 100, 100, 100, 100, 100, 100]\n"
     ]
    }
   ],
   "source": [
    "weekly_production = production_schedule(40,100,5,sum(tables_per_wave))\n",
    "print(weekly_production)"
   ]
  },
  {
   "cell_type": "code",
   "execution_count": 366,
   "id": "bed8969f-2c3c-4c22-b3b6-ee0e23ac3179",
   "metadata": {},
   "outputs": [
    {
     "data": {
      "text/plain": [
       "40"
      ]
     },
     "execution_count": 366,
     "metadata": {},
     "output_type": "execute_result"
    }
   ],
   "source": [
    "weekly_production[0]"
   ]
  },
  {
   "cell_type": "code",
   "execution_count": 367,
   "id": "144ce78d-acce-4b38-8993-78e29b982d62",
   "metadata": {},
   "outputs": [
    {
     "name": "stdout",
     "output_type": "stream",
     "text": [
      "Total Tables Outstanding: 6428\n",
      "Weeks to complete fulfillment: 80\n"
     ]
    }
   ],
   "source": [
    "print(f'Total Tables Outstanding: {sum(tables_per_wave)}')\n",
    "print(f'Weeks to complete fulfillment: {len(weekly_production)}')"
   ]
  },
  {
   "cell_type": "code",
   "execution_count": 368,
   "id": "5f972b86-04d7-41b9-9df0-0ad8b0dcfa4c",
   "metadata": {},
   "outputs": [],
   "source": [
    "pizza = wave_start_date(wave_tables, weekly_production)"
   ]
  },
  {
   "cell_type": "code",
   "execution_count": 370,
   "id": "25ff1d96-aa9b-412e-889b-7b42b46bc84d",
   "metadata": {
    "tags": []
   },
   "outputs": [
    {
     "data": {
      "text/html": [
       "<div>\n",
       "<style scoped>\n",
       "    .dataframe tbody tr th:only-of-type {\n",
       "        vertical-align: middle;\n",
       "    }\n",
       "\n",
       "    .dataframe tbody tr th {\n",
       "        vertical-align: top;\n",
       "    }\n",
       "\n",
       "    .dataframe thead th {\n",
       "        text-align: right;\n",
       "    }\n",
       "</style>\n",
       "<table border=\"1\" class=\"dataframe\">\n",
       "  <thead>\n",
       "    <tr style=\"text-align: right;\">\n",
       "      <th></th>\n",
       "      <th>0</th>\n",
       "      <th>1</th>\n",
       "    </tr>\n",
       "  </thead>\n",
       "  <tbody>\n",
       "    <tr>\n",
       "      <th>0</th>\n",
       "      <td>Wave 2</td>\n",
       "      <td>2021-12-24</td>\n",
       "    </tr>\n",
       "    <tr>\n",
       "      <th>1</th>\n",
       "      <td>Wave 3</td>\n",
       "      <td>2021-12-31</td>\n",
       "    </tr>\n",
       "    <tr>\n",
       "      <th>2</th>\n",
       "      <td>Wave 3</td>\n",
       "      <td>2022-01-07</td>\n",
       "    </tr>\n",
       "    <tr>\n",
       "      <th>3</th>\n",
       "      <td>Wave 3</td>\n",
       "      <td>2022-01-14</td>\n",
       "    </tr>\n",
       "    <tr>\n",
       "      <th>4</th>\n",
       "      <td>Wave 3</td>\n",
       "      <td>2022-01-21</td>\n",
       "    </tr>\n",
       "    <tr>\n",
       "      <th>...</th>\n",
       "      <td>...</td>\n",
       "      <td>...</td>\n",
       "    </tr>\n",
       "    <tr>\n",
       "      <th>75</th>\n",
       "      <td>International Backers Wave 1</td>\n",
       "      <td>2023-06-02</td>\n",
       "    </tr>\n",
       "    <tr>\n",
       "      <th>76</th>\n",
       "      <td>Wave 11</td>\n",
       "      <td>2023-06-09</td>\n",
       "    </tr>\n",
       "    <tr>\n",
       "      <th>77</th>\n",
       "      <td>Wave 11</td>\n",
       "      <td>2023-06-16</td>\n",
       "    </tr>\n",
       "    <tr>\n",
       "      <th>78</th>\n",
       "      <td>Wave 11</td>\n",
       "      <td>2023-06-23</td>\n",
       "    </tr>\n",
       "    <tr>\n",
       "      <th>79</th>\n",
       "      <td>Wave 12</td>\n",
       "      <td>2023-06-30</td>\n",
       "    </tr>\n",
       "  </tbody>\n",
       "</table>\n",
       "<p>80 rows × 2 columns</p>\n",
       "</div>"
      ],
      "text/plain": [
       "                               0           1\n",
       "0                         Wave 2  2021-12-24\n",
       "1                         Wave 3  2021-12-31\n",
       "2                         Wave 3  2022-01-07\n",
       "3                         Wave 3  2022-01-14\n",
       "4                         Wave 3  2022-01-21\n",
       "..                           ...         ...\n",
       "75  International Backers Wave 1  2023-06-02\n",
       "76                       Wave 11  2023-06-09\n",
       "77                       Wave 11  2023-06-16\n",
       "78                       Wave 11  2023-06-23\n",
       "79                       Wave 12  2023-06-30\n",
       "\n",
       "[80 rows x 2 columns]"
      ]
     },
     "execution_count": 370,
     "metadata": {},
     "output_type": "execute_result"
    }
   ],
   "source": [
    "test_df = pd.DataFrame(pizza)\n",
    "test_df.head(200)"
   ]
  },
  {
   "cell_type": "code",
   "execution_count": null,
   "id": "2c7552ed-6f9a-46db-a6ac-bc24cc2db31f",
   "metadata": {},
   "outputs": [],
   "source": []
  }
 ],
 "metadata": {
  "kernelspec": {
   "display_name": "Python 3 (ipykernel)",
   "language": "python",
   "name": "python3"
  },
  "language_info": {
   "codemirror_mode": {
    "name": "ipython",
    "version": 3
   },
   "file_extension": ".py",
   "mimetype": "text/x-python",
   "name": "python",
   "nbconvert_exporter": "python",
   "pygments_lexer": "ipython3",
   "version": "3.8.11"
  }
 },
 "nbformat": 4,
 "nbformat_minor": 5
}
